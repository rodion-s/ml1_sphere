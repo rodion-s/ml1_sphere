{
 "cells": [
  {
   "cell_type": "markdown",
   "metadata": {},
   "source": [
    "**Общая информация**\n",
    "\n",
    "**Срок сдачи:** 21 октября 2019, 08:30 \n",
    "\n",
    "**Штраф за опоздание:** по 0.5 балла за 24 часа задержки. Через 10 дней домашнее задание сгорает.\n",
    "\n",
    "При отправлении ДЗ указывайте фамилию в названии файла\n",
    "Присылать ДЗ необходимо в виде ссылки на свой github репозиторий на почту ml1.sphere@mail.ru с указанием темы в следующем формате:\n",
    "\n",
    "[ML0919, Задание 1] Фамилия Имя.\n",
    "\n",
    "Используйте данный Ipython Notebook при оформлении домашнего задания."
   ]
  },
  {
   "cell_type": "markdown",
   "metadata": {},
   "source": [
    "\n",
    "**Штрафные баллы:**\n",
    "\n",
    "1. Невыполнение PEP8 -0.5 баллов\n",
    "2. Отсутствие фамилии в имени скрипта (скрипт должен называться по аналогии со stroykova_hw1.ipynb) -0.5 баллов\n",
    "3. Все строчки должны быть выполнены. Нужно, чтобы output команды можно было увидеть уже в git'е. В противном случае -0.5 баллов\n"
   ]
  },
  {
   "cell_type": "code",
   "execution_count": 1,
   "metadata": {},
   "outputs": [],
   "source": [
    "import numpy as np\n",
    "import matplotlib.pyplot as plt\n",
    "\n",
    "import seaborn as sns\n",
    "from sklearn import datasets\n",
    "from sklearn.base import ClassifierMixin\n",
    "from sklearn.datasets import fetch_mldata, fetch_20newsgroups\n",
    "\n",
    "from sklearn.neighbors.base import NeighborsBase, KNeighborsMixin, SupervisedIntegerMixin \n",
    "from sklearn.model_selection import train_test_split\n",
    "from sklearn.neighbors import KNeighborsClassifier\n",
    "from sklearn.neighbors import KDTree\n",
    "import scipy\n",
    "from sklearn.metrics import pairwise_distances\n",
    "\n",
    "%load_ext pycodestyle_magic"
   ]
  },
  {
   "cell_type": "markdown",
   "metadata": {},
   "source": [
    "##### Задание 1 (1 балл)\n",
    "Реализовать KNN в классе MyKNeighborsClassifier (обязательное условие: точность не ниже sklearn реализации)\n",
    "Разберитесь самостоятельно, какая мера расстояния используется в KNeighborsClassifier дефолтно и реализуйте свой алгоритм именно с этой мерой. Самостоятельно разберитесь, как считается score из KNeighborsClassifier и реализуйте аналог в своём классе. Score не должен уступать значению KNN из sklearn"
   ]
  },
  {
   "cell_type": "code",
   "execution_count": 2,
   "metadata": {},
   "outputs": [],
   "source": [
    "class MyKNeighborsClassifier(NeighborsBase, KNeighborsMixin,\n",
    "                             SupervisedIntegerMixin, ClassifierMixin):\n",
    "    def __init__(self, n_neighbors,\n",
    "                 algorithm='brute', metric='euclidean'):\n",
    "        self.n_neighbors = n_neighbors\n",
    "        self.algorithm = algorithm\n",
    "        self.metric = metric\n",
    "\n",
    "    def fit(self, X, y):\n",
    "        self.X = X\n",
    "        self.y = y\n",
    "        self.classes = np.unique(y)\n",
    "        self.n_classes = self.classes.shape[0]\n",
    "        if self.algorithm == 'kd_tree':\n",
    "            if self.metric != 'cosine':\n",
    "                self.tree = KDTree(self.X, leaf_size=30, metric=self.metric)\n",
    "            else:\n",
    "                self.tree = KDTree(self.X, leaf_size=30)\n",
    "\n",
    "    def predict(self, X):\n",
    "        if self.algorithm == 'brute':\n",
    "            dist = pairwise_distances(X, self.X, metric=self.metric)\n",
    "            indeces = np.argpartition(dist, self.n_neighbors, axis=1)\n",
    "            indeces = indeces[:, :self.n_neighbors]\n",
    "        if self.algorithm == 'kd_tree':\n",
    "            indeces = self.tree.query(X, k=self.n_neighbors)[1]\n",
    "        classes = np.take(self.y, indeces)\n",
    "        out = scipy.stats.mode(classes, axis=1)[0].T\n",
    "        return np.squeeze(out)\n",
    "\n",
    "    def predict_proba(self, X):\n",
    "        if self.algorithm == 'brute':\n",
    "            dist = scipy.spatial.distance.cdist(X, self.X, metric=self.metric)\n",
    "            indeces = np.argpartition(dist,\n",
    "                                      self.n_neighbors, axis=1)\n",
    "            indeces = indeces[:, :self.n_neighbors]\n",
    "        if self.algorithm == 'kd_tree':\n",
    "            dist, indeces = self.tree.query(X, k=self.n_neighbors)\n",
    "        classes = np.take(self.y, indeces)\n",
    "        proba = np.zeros((X.shape[0], self.n_classes), dtype=float)\n",
    "        for i in range(X.shape[0]):\n",
    "            class_ind, counts = np.unique(classes[i], return_counts=True)\n",
    "            proba[i][class_ind] = counts\n",
    "        return proba / self.n_neighbors\n",
    "\n",
    "    def score(self, X, y):\n",
    "        return np.mean(np.mean(self.predict(X) == y))"
   ]
  },
  {
   "cell_type": "markdown",
   "metadata": {},
   "source": [
    "**IRIS**\n",
    "\n",
    "В библиотеке scikit-learn есть несколько датасетов из коробки. Один из них [Ирисы Фишера](https://ru.wikipedia.org/wiki/%D0%98%D1%80%D0%B8%D1%81%D1%8B_%D0%A4%D0%B8%D1%88%D0%B5%D1%80%D0%B0)"
   ]
  },
  {
   "cell_type": "code",
   "execution_count": 3,
   "metadata": {},
   "outputs": [],
   "source": [
    "iris = datasets.load_iris()"
   ]
  },
  {
   "cell_type": "code",
   "execution_count": 4,
   "metadata": {},
   "outputs": [],
   "source": [
    "X_train, X_test, y_train, y_test = train_test_split(iris.data, iris.target, test_size=0.1, stratify=iris.target)"
   ]
  },
  {
   "cell_type": "code",
   "execution_count": 5,
   "metadata": {},
   "outputs": [],
   "source": [
    "clf = KNeighborsClassifier(n_neighbors=2, algorithm='brute')\n",
    "my_clf = MyKNeighborsClassifier(n_neighbors=2, algorithm='brute')"
   ]
  },
  {
   "cell_type": "code",
   "execution_count": 6,
   "metadata": {},
   "outputs": [],
   "source": [
    "clf.fit(X_train, y_train)\n",
    "my_clf.fit(X_train, y_train)"
   ]
  },
  {
   "cell_type": "code",
   "execution_count": 7,
   "metadata": {},
   "outputs": [],
   "source": [
    "assert abs(my_clf.score(X_test, y_test) - clf.score(X_test,y_test))<0.005, \"Score must be simillar\""
   ]
  },
  {
   "cell_type": "markdown",
   "metadata": {},
   "source": [
    "**Задание 2 (0.5 балла)**\n",
    "\n",
    "Давайте попробуем добиться скорости работы на fit, predict и predict_proba сравнимой со sklearn для iris.\n",
    "Для этого используем numpy"
   ]
  },
  {
   "cell_type": "code",
   "execution_count": 8,
   "metadata": {},
   "outputs": [
    {
     "name": "stdout",
     "output_type": "stream",
     "text": [
      "CPU times: user 4.23 ms, sys: 25 µs, total: 4.25 ms\n",
      "Wall time: 3.64 ms\n"
     ]
    },
    {
     "data": {
      "text/plain": [
       "KNeighborsClassifier(algorithm='brute', leaf_size=30, metric='minkowski',\n",
       "                     metric_params=None, n_jobs=None, n_neighbors=2, p=2,\n",
       "                     weights='uniform')"
      ]
     },
     "execution_count": 8,
     "metadata": {},
     "output_type": "execute_result"
    }
   ],
   "source": [
    "%time clf.fit(X_train, y_train)"
   ]
  },
  {
   "cell_type": "code",
   "execution_count": 9,
   "metadata": {},
   "outputs": [
    {
     "name": "stdout",
     "output_type": "stream",
     "text": [
      "CPU times: user 1.03 ms, sys: 110 µs, total: 1.14 ms\n",
      "Wall time: 1.03 ms\n"
     ]
    }
   ],
   "source": [
    "%time my_clf.fit(X_train, y_train)"
   ]
  },
  {
   "cell_type": "code",
   "execution_count": 10,
   "metadata": {},
   "outputs": [
    {
     "name": "stdout",
     "output_type": "stream",
     "text": [
      "CPU times: user 3.1 ms, sys: 0 ns, total: 3.1 ms\n",
      "Wall time: 4.12 ms\n"
     ]
    },
    {
     "data": {
      "text/plain": [
       "array([2, 0, 0, 1, 0, 1, 2, 1, 0, 2, 1, 2, 1, 2, 0])"
      ]
     },
     "execution_count": 10,
     "metadata": {},
     "output_type": "execute_result"
    }
   ],
   "source": [
    "%time clf.predict(X_test)"
   ]
  },
  {
   "cell_type": "code",
   "execution_count": 11,
   "metadata": {},
   "outputs": [
    {
     "name": "stdout",
     "output_type": "stream",
     "text": [
      "CPU times: user 6.24 ms, sys: 0 ns, total: 6.24 ms\n",
      "Wall time: 6.07 ms\n"
     ]
    },
    {
     "data": {
      "text/plain": [
       "array([2, 0, 0, 1, 0, 1, 2, 1, 0, 2, 1, 2, 1, 2, 0])"
      ]
     },
     "execution_count": 11,
     "metadata": {},
     "output_type": "execute_result"
    }
   ],
   "source": [
    "%time my_clf.predict(X_test)"
   ]
  },
  {
   "cell_type": "code",
   "execution_count": 12,
   "metadata": {},
   "outputs": [
    {
     "name": "stdout",
     "output_type": "stream",
     "text": [
      "CPU times: user 1.23 ms, sys: 131 µs, total: 1.37 ms\n",
      "Wall time: 1.15 ms\n"
     ]
    },
    {
     "data": {
      "text/plain": [
       "array([[0., 0., 1.],\n",
       "       [1., 0., 0.],\n",
       "       [1., 0., 0.],\n",
       "       [0., 1., 0.],\n",
       "       [1., 0., 0.],\n",
       "       [0., 1., 0.],\n",
       "       [0., 0., 1.],\n",
       "       [0., 1., 0.],\n",
       "       [1., 0., 0.],\n",
       "       [0., 0., 1.],\n",
       "       [0., 1., 0.],\n",
       "       [0., 0., 1.],\n",
       "       [0., 1., 0.],\n",
       "       [0., 0., 1.],\n",
       "       [1., 0., 0.]])"
      ]
     },
     "execution_count": 12,
     "metadata": {},
     "output_type": "execute_result"
    }
   ],
   "source": [
    "%time clf.predict_proba(X_test)"
   ]
  },
  {
   "cell_type": "code",
   "execution_count": 13,
   "metadata": {},
   "outputs": [
    {
     "name": "stdout",
     "output_type": "stream",
     "text": [
      "CPU times: user 1.57 ms, sys: 0 ns, total: 1.57 ms\n",
      "Wall time: 1.54 ms\n"
     ]
    },
    {
     "data": {
      "text/plain": [
       "array([[0., 0., 1.],\n",
       "       [1., 0., 0.],\n",
       "       [1., 0., 0.],\n",
       "       [0., 1., 0.],\n",
       "       [1., 0., 0.],\n",
       "       [0., 1., 0.],\n",
       "       [0., 0., 1.],\n",
       "       [0., 1., 0.],\n",
       "       [1., 0., 0.],\n",
       "       [0., 0., 1.],\n",
       "       [0., 1., 0.],\n",
       "       [0., 0., 1.],\n",
       "       [0., 1., 0.],\n",
       "       [0., 0., 1.],\n",
       "       [1., 0., 0.]])"
      ]
     },
     "execution_count": 13,
     "metadata": {},
     "output_type": "execute_result"
    }
   ],
   "source": [
    "%time my_clf.predict_proba(X_test)"
   ]
  },
  {
   "cell_type": "markdown",
   "metadata": {},
   "source": [
    "###### Задание 3 (1 балл)\n",
    "Добавьте algorithm='kd_tree' в реализацию KNN (использовать KDTree из sklearn.neighbors). Необходимо добиться скорости работы на fit,  predict и predict_proba сравнимой со sklearn для iris.\n",
    "Для этого используем numpy. Score не должен уступать значению KNN из sklearn"
   ]
  },
  {
   "cell_type": "code",
   "execution_count": 14,
   "metadata": {},
   "outputs": [],
   "source": [
    "clf = KNeighborsClassifier(n_neighbors=2, algorithm='kd_tree')\n",
    "my_clf = MyKNeighborsClassifier(n_neighbors=2, algorithm='kd_tree')"
   ]
  },
  {
   "cell_type": "code",
   "execution_count": 15,
   "metadata": {},
   "outputs": [],
   "source": [
    "X_train, X_test, y_train, y_test = train_test_split(iris.data, iris.target, test_size=0.1, stratify=iris.target)"
   ]
  },
  {
   "cell_type": "code",
   "execution_count": 16,
   "metadata": {},
   "outputs": [
    {
     "name": "stdout",
     "output_type": "stream",
     "text": [
      "CPU times: user 1.24 ms, sys: 0 ns, total: 1.24 ms\n",
      "Wall time: 1.24 ms\n"
     ]
    },
    {
     "data": {
      "text/plain": [
       "KNeighborsClassifier(algorithm='kd_tree', leaf_size=30, metric='minkowski',\n",
       "                     metric_params=None, n_jobs=None, n_neighbors=2, p=2,\n",
       "                     weights='uniform')"
      ]
     },
     "execution_count": 16,
     "metadata": {},
     "output_type": "execute_result"
    }
   ],
   "source": [
    "%time clf.fit(X_train, y_train)"
   ]
  },
  {
   "cell_type": "code",
   "execution_count": 17,
   "metadata": {},
   "outputs": [
    {
     "name": "stdout",
     "output_type": "stream",
     "text": [
      "CPU times: user 367 µs, sys: 39 µs, total: 406 µs\n",
      "Wall time: 331 µs\n"
     ]
    }
   ],
   "source": [
    "%time my_clf.fit(X_train, y_train)"
   ]
  },
  {
   "cell_type": "code",
   "execution_count": 18,
   "metadata": {},
   "outputs": [
    {
     "name": "stdout",
     "output_type": "stream",
     "text": [
      "CPU times: user 3.57 ms, sys: 0 ns, total: 3.57 ms\n",
      "Wall time: 2.98 ms\n"
     ]
    },
    {
     "data": {
      "text/plain": [
       "array([0, 0, 1, 2, 1, 1, 2, 2, 2, 1, 0, 0, 2, 0, 1])"
      ]
     },
     "execution_count": 18,
     "metadata": {},
     "output_type": "execute_result"
    }
   ],
   "source": [
    "%time clf.predict(X_test)"
   ]
  },
  {
   "cell_type": "code",
   "execution_count": 19,
   "metadata": {},
   "outputs": [
    {
     "name": "stdout",
     "output_type": "stream",
     "text": [
      "CPU times: user 3.18 ms, sys: 0 ns, total: 3.18 ms\n",
      "Wall time: 2.19 ms\n"
     ]
    },
    {
     "data": {
      "text/plain": [
       "array([0, 0, 1, 2, 1, 1, 2, 2, 2, 1, 0, 0, 2, 0, 1])"
      ]
     },
     "execution_count": 19,
     "metadata": {},
     "output_type": "execute_result"
    }
   ],
   "source": [
    "%time my_clf.predict(X_test)"
   ]
  },
  {
   "cell_type": "code",
   "execution_count": 20,
   "metadata": {},
   "outputs": [
    {
     "name": "stdout",
     "output_type": "stream",
     "text": [
      "CPU times: user 1.53 ms, sys: 0 ns, total: 1.53 ms\n",
      "Wall time: 1.15 ms\n"
     ]
    },
    {
     "data": {
      "text/plain": [
       "array([[1., 0., 0.],\n",
       "       [1., 0., 0.],\n",
       "       [0., 1., 0.],\n",
       "       [0., 0., 1.],\n",
       "       [0., 1., 0.],\n",
       "       [0., 1., 0.],\n",
       "       [0., 0., 1.],\n",
       "       [0., 0., 1.],\n",
       "       [0., 0., 1.],\n",
       "       [0., 1., 0.],\n",
       "       [1., 0., 0.],\n",
       "       [1., 0., 0.],\n",
       "       [0., 0., 1.],\n",
       "       [1., 0., 0.],\n",
       "       [0., 1., 0.]])"
      ]
     },
     "execution_count": 20,
     "metadata": {},
     "output_type": "execute_result"
    }
   ],
   "source": [
    "%time clf.predict_proba(X_test)"
   ]
  },
  {
   "cell_type": "code",
   "execution_count": 21,
   "metadata": {},
   "outputs": [
    {
     "name": "stdout",
     "output_type": "stream",
     "text": [
      "CPU times: user 1.78 ms, sys: 0 ns, total: 1.78 ms\n",
      "Wall time: 1.24 ms\n"
     ]
    },
    {
     "data": {
      "text/plain": [
       "array([[1., 0., 0.],\n",
       "       [1., 0., 0.],\n",
       "       [0., 1., 0.],\n",
       "       [0., 0., 1.],\n",
       "       [0., 1., 0.],\n",
       "       [0., 1., 0.],\n",
       "       [0., 0., 1.],\n",
       "       [0., 0., 1.],\n",
       "       [0., 0., 1.],\n",
       "       [0., 1., 0.],\n",
       "       [1., 0., 0.],\n",
       "       [1., 0., 0.],\n",
       "       [0., 0., 1.],\n",
       "       [1., 0., 0.],\n",
       "       [0., 1., 0.]])"
      ]
     },
     "execution_count": 21,
     "metadata": {},
     "output_type": "execute_result"
    }
   ],
   "source": [
    "%time my_clf.predict_proba(X_test)"
   ]
  },
  {
   "cell_type": "code",
   "execution_count": 22,
   "metadata": {},
   "outputs": [],
   "source": [
    "assert abs(my_clf.score(X_test, y_test) - clf.score(X_test,y_test))<0.005, \"Score must be simillar\""
   ]
  },
  {
   "cell_type": "markdown",
   "metadata": {},
   "source": [
    "**Задание 4 (2.5 балла)**\n",
    "\n",
    "Рассмотрим новый датасет 20 newsgroups"
   ]
  },
  {
   "cell_type": "code",
   "execution_count": 23,
   "metadata": {},
   "outputs": [],
   "source": [
    "newsgroups = fetch_20newsgroups(subset='train',remove=['headers','footers', 'quotes'])"
   ]
  },
  {
   "cell_type": "code",
   "execution_count": 24,
   "metadata": {},
   "outputs": [],
   "source": [
    "data = newsgroups['data']\n",
    "target = newsgroups['target']"
   ]
  },
  {
   "cell_type": "markdown",
   "metadata": {},
   "source": [
    "Переведите во всех документах все буквы в нижний регистр и замените во всех документах символы, не\n",
    "являющиеся буквами и цифрами, на пробелы. Далее разбейте текста по пробельным символам на токены(термы/слова). Удалите текста, содержащие только пробелы."
   ]
  },
  {
   "cell_type": "code",
   "execution_count": 25,
   "metadata": {},
   "outputs": [
    {
     "data": {
      "text/plain": [
       "(11004, 11004)"
      ]
     },
     "execution_count": 25,
     "metadata": {},
     "output_type": "execute_result"
    }
   ],
   "source": [
    "# data_tok should be a list of lists of tokens for each line in data.\n",
    "\n",
    "outp = [''.join(c if c.isalpha() or c.isdigit() else ' '\n",
    "                for c in first).lower().split() for first in data]\n",
    "target = [ans for text, ans in zip(outp, target) if text != []]\n",
    "data_tok = list(filter(None, outp))\n",
    "len(data_tok), len(target)"
   ]
  },
  {
   "cell_type": "code",
   "execution_count": 26,
   "metadata": {},
   "outputs": [],
   "source": [
    "assert all(isinstance(row, (list, tuple)) for row in data_tok), \"please convert each line into a list of tokens (strings)\"\n",
    "assert all(all(isinstance(tok, str) for tok in row) for row in data_tok), \"please convert each line into a list of tokens (strings)\"\n",
    "is_latin = lambda tok: all('a' <= x.lower() <= 'z' for x in tok)\n",
    "assert all(map(lambda l: not is_latin(l) or l.islower() , map(' '.join, data_tok))), \"please make sure that you lowercase the data and drop spaced texts\""
   ]
  },
  {
   "cell_type": "markdown",
   "metadata": {},
   "source": [
    "Преобразуйте датасет в разреженную матрицу scipy.sparse.csr_matrix, где значение x в позиции (i, j)\n",
    "означает, что в документе i слово j встретилось x раз"
   ]
  },
  {
   "cell_type": "code",
   "execution_count": 27,
   "metadata": {},
   "outputs": [
    {
     "data": {
      "text/plain": [
       "((11004, 98749), (11004,))"
      ]
     },
     "execution_count": 27,
     "metadata": {},
     "output_type": "execute_result"
    }
   ],
   "source": [
    "indptr = [0]\n",
    "indices = []\n",
    "data = []\n",
    "vocabulary = {}\n",
    "\n",
    "for d in data_tok:\n",
    "    for term in d:\n",
    "        index = vocabulary.setdefault(term, len(vocabulary))\n",
    "        indices.append(index)\n",
    "        data.append(1)\n",
    "    indptr.append(len(indices))\n",
    "\n",
    "vectorized = scipy.sparse.csr_matrix((data, indices, indptr),\n",
    "                                     dtype=np.uint16)\n",
    "target = np.array(target)\n",
    "vectorized.shape, target.shape"
   ]
  },
  {
   "cell_type": "markdown",
   "metadata": {},
   "source": [
    "*Так мы получили векторное представление наших текстов. Значит можно приступать к задаче обучения модели*"
   ]
  },
  {
   "cell_type": "markdown",
   "metadata": {},
   "source": [
    "Реализуйте разбиение выборки для кросс-валидации на 3 фолдах. Разрешено использовать sklearn.cross_validation"
   ]
  },
  {
   "cell_type": "code",
   "execution_count": 28,
   "metadata": {},
   "outputs": [
    {
     "data": {
      "text/plain": [
       "[0.18738101713353278, 0.19274809160305342, 0.1948619841486745]"
      ]
     },
     "execution_count": 28,
     "metadata": {},
     "output_type": "execute_result"
    }
   ],
   "source": [
    "from sklearn.model_selection import StratifiedKFold\n",
    "folds = 3\n",
    "scores = []\n",
    "partition = StratifiedKFold(n_splits=folds)\n",
    "my_clf = MyKNeighborsClassifier(n_neighbors=2, algorithm='brute')\n",
    "\n",
    "for train_index, test_index in partition.split(vectorized, target):\n",
    "    X_train, y_train = vectorized[train_index], target[train_index]\n",
    "    my_clf.fit(vectorized[train_index], target[train_index])\n",
    "    X_test, y_test = vectorized[test_index], target[test_index]\n",
    "    scores.append(my_clf.score(vectorized[test_index], target[test_index]))\n",
    "scores"
   ]
  },
  {
   "cell_type": "markdown",
   "metadata": {},
   "source": [
    "Напишите метод, позволяющий найти оптимальное количество ближайших соседей(дающее максимальный score в среднем на валидации на 3 фолдах).\n",
    "Постройте график зависимости среднего score от количества соседей. Можно рассмотреть число соседей от 1 до 10."
   ]
  },
  {
   "cell_type": "code",
   "execution_count": 29,
   "metadata": {},
   "outputs": [],
   "source": [
    "from tqdm import tqdm_notebook\n",
    "\n",
    "\n",
    "def my_cross_validation(samples, target,\n",
    "                        partition, ans, key, metr='euclidean'):\n",
    "    ans[key] = []\n",
    "    for current_n_neighb in tqdm_notebook(range(1, 11)):\n",
    "        my_clf = MyKNeighborsClassifier(n_neighbors=current_n_neighb,\n",
    "                                        algorithm='brute', metric=metr)\n",
    "        scores = []\n",
    "        for train_index, test_index in partition.split(samples, target):\n",
    "            X_train, y_train = samples[train_index], target[train_index]\n",
    "            my_clf.fit(X_train, y_train)\n",
    "            X_test, y_test = samples[test_index], target[test_index]\n",
    "            scores.append(my_clf.score(X_test, y_test))\n",
    "        ans[key].append(np.mean(scores))\n",
    "    return ans"
   ]
  },
  {
   "cell_type": "code",
   "execution_count": 30,
   "metadata": {},
   "outputs": [
    {
     "data": {
      "application/vnd.jupyter.widget-view+json": {
       "model_id": "4f59c8201caa44649093b09c7540f12c",
       "version_major": 2,
       "version_minor": 0
      },
      "text/plain": [
       "HBox(children=(IntProgress(value=0, max=10), HTML(value='')))"
      ]
     },
     "metadata": {},
     "output_type": "display_data"
    },
    {
     "name": "stdout",
     "output_type": "stream",
     "text": [
      "\n"
     ]
    },
    {
     "data": {
      "text/plain": [
       "{'brute': [0.2163767255752235,\n",
       "  0.19166369762842025,\n",
       "  0.18739607367653133,\n",
       "  0.19348301112088828,\n",
       "  0.1970254105493233,\n",
       "  0.19984882231892542,\n",
       "  0.20030610510945715,\n",
       "  0.2020274028313641,\n",
       "  0.20438973951516318,\n",
       "  0.2052987278695836]}"
      ]
     },
     "execution_count": 30,
     "metadata": {},
     "output_type": "execute_result"
    }
   ],
   "source": [
    "ans = my_cross_validation(vectorized, target, partition, {}, 'brute')\n",
    "ans"
   ]
  },
  {
   "cell_type": "code",
   "execution_count": 31,
   "metadata": {},
   "outputs": [
    {
     "data": {
      "application/vnd.jupyter.widget-view+json": {
       "model_id": "6c6be7809352404aaae5cef2d3f6694a",
       "version_major": 2,
       "version_minor": 0
      },
      "text/plain": [
       "HBox(children=(IntProgress(value=0, max=10), HTML(value='')))"
      ]
     },
     "metadata": {},
     "output_type": "display_data"
    },
    {
     "name": "stdout",
     "output_type": "stream",
     "text": [
      "\n"
     ]
    },
    {
     "data": {
      "text/plain": [
       "{'brute': [0.2163767255752235,\n",
       "  0.19166369762842025,\n",
       "  0.18739607367653133,\n",
       "  0.19348301112088828,\n",
       "  0.1970254105493233,\n",
       "  0.19984882231892542,\n",
       "  0.20030610510945715,\n",
       "  0.2020274028313641,\n",
       "  0.20438973951516318,\n",
       "  0.2052987278695836],\n",
       " 'brute_cosine': [0.28853082572303196,\n",
       "  0.27235862071819067,\n",
       "  0.27199131877147403,\n",
       "  0.2655415488213209,\n",
       "  0.25880665949903103,\n",
       "  0.2591768497859241,\n",
       "  0.25963190387425744,\n",
       "  0.25917774389295406,\n",
       "  0.2579019061164792,\n",
       "  0.2578154896642602]}"
      ]
     },
     "execution_count": 31,
     "metadata": {},
     "output_type": "execute_result"
    }
   ],
   "source": [
    "ans = my_cross_validation(vectorized, target,\n",
    "                          partition, ans, 'brute_cosine', 'cosine')\n",
    "ans"
   ]
  },
  {
   "cell_type": "code",
   "execution_count": 32,
   "metadata": {},
   "outputs": [
    {
     "data": {
      "image/png": "[encoded data removed]",
      "text/plain": [
       "<Figure size 432x288 with 1 Axes>"
      ]
     },
     "metadata": {
      "needs_background": "light"
     },
     "output_type": "display_data"
    }
   ],
   "source": [
    "import matplotlib.pyplot as plt\n",
    "%matplotlib inline\n",
    "plt.plot(np.arange(1, 11), ans['brute'], label='brute euclidean')\n",
    "plt.plot(np.arange(1, 11), ans['brute_cosine'], label='brute cosine')\n",
    "plt.legend(['brute euclidean', 'brute cosine'],  loc='upper left')\n",
    "plt.xlabel('K_Neigbors')\n",
    "plt.ylabel('Score')\n",
    "plt.show()"
   ]
  },
  {
   "cell_type": "code",
   "execution_count": 33,
   "metadata": {},
   "outputs": [
    {
     "data": {
      "text/plain": [
       "<11004x98749 sparse matrix of type '<class 'numpy.float64'>'\n",
       "\twith 1147082 stored elements in Compressed Sparse Row format>"
      ]
     },
     "execution_count": 33,
     "metadata": {},
     "output_type": "execute_result"
    }
   ],
   "source": [
    "from sklearn.feature_extraction.text import TfidfTransformer\n",
    "transformed = TfidfTransformer(use_idf=True,\n",
    "                               smooth_idf=True).fit_transform(vectorized)\n",
    "transformed"
   ]
  },
  {
   "cell_type": "code",
   "execution_count": 34,
   "metadata": {},
   "outputs": [
    {
     "data": {
      "application/vnd.jupyter.widget-view+json": {
       "model_id": "e73ef529ce5d45ada982b53f487165f9",
       "version_major": 2,
       "version_minor": 0
      },
      "text/plain": [
       "HBox(children=(IntProgress(value=0, max=10), HTML(value='')))"
      ]
     },
     "metadata": {},
     "output_type": "display_data"
    },
    {
     "name": "stdout",
     "output_type": "stream",
     "text": [
      "\n"
     ]
    },
    {
     "data": {
      "text/plain": [
       "{'brute': [0.6323196238338625,\n",
       "  0.5845861204372599,\n",
       "  0.6005857270067151,\n",
       "  0.6117715504929687,\n",
       "  0.6224938411933163,\n",
       "  0.6238618852331164,\n",
       "  0.6274964942075648,\n",
       "  0.6268657232515348,\n",
       "  0.6294084763360851,\n",
       "  0.6279580218180301]}"
      ]
     },
     "execution_count": 34,
     "metadata": {},
     "output_type": "execute_result"
    }
   ],
   "source": [
    "ans_tf_idf = my_cross_validation(transformed, target, partition, {}, 'brute')\n",
    "ans_tf_idf"
   ]
  },
  {
   "cell_type": "code",
   "execution_count": 35,
   "metadata": {},
   "outputs": [
    {
     "data": {
      "application/vnd.jupyter.widget-view+json": {
       "model_id": "b5368cab50ef411194b6527297090e08",
       "version_major": 2,
       "version_minor": 0
      },
      "text/plain": [
       "HBox(children=(IntProgress(value=0, max=10), HTML(value='')))"
      ]
     },
     "metadata": {},
     "output_type": "display_data"
    },
    {
     "name": "stdout",
     "output_type": "stream",
     "text": [
      "\n"
     ]
    },
    {
     "data": {
      "text/plain": [
       "{'brute': [0.6323196238338625,\n",
       "  0.5845861204372599,\n",
       "  0.6005857270067151,\n",
       "  0.6117715504929687,\n",
       "  0.6224938411933163,\n",
       "  0.6238618852331164,\n",
       "  0.6274964942075648,\n",
       "  0.6268657232515348,\n",
       "  0.6294084763360851,\n",
       "  0.6279580218180301],\n",
       " 'brute_cosine': [0.6322285242620304,\n",
       "  0.5844950208654278,\n",
       "  0.6005857270067151,\n",
       "  0.6117715504929687,\n",
       "  0.6224938411933163,\n",
       "  0.6238618852331164,\n",
       "  0.6274053946357329,\n",
       "  0.6266835241078708,\n",
       "  0.6292262771924211,\n",
       "  0.627866922246198]}"
      ]
     },
     "execution_count": 35,
     "metadata": {},
     "output_type": "execute_result"
    }
   ],
   "source": [
    "ans_tf_idf = my_cross_validation(transformed, target,\n",
    "                                 partition, ans_tf_idf,\n",
    "                                 'brute_cosine', 'cosine')\n",
    "ans_tf_idf"
   ]
  },
  {
   "cell_type": "code",
   "execution_count": 36,
   "metadata": {},
   "outputs": [
    {
     "data": {
      "image/png": "[encoded data removed]",
      "text/plain": [
       "<Figure size 432x288 with 1 Axes>"
      ]
     },
     "metadata": {
      "needs_background": "light"
     },
     "output_type": "display_data"
    }
   ],
   "source": [
    "plt.plot(np.arange(1, 11), ans_tf_idf['brute'],\n",
    "         label='after TFiDF brute euclidean')\n",
    "plt.plot(np.arange(1, 11), ans_tf_idf['brute_cosine'],\n",
    "         label='ater TFiDF brute cosine')\n",
    "plt.legend(['after TFiDF brute euclidean', 'ater TFiDF brute cosine'],\n",
    "           loc='upper left')\n",
    "plt.xlabel('K_Neigbors')\n",
    "plt.ylabel('Score')\n",
    "plt.show()"
   ]
  },
  {
   "cell_type": "code",
   "execution_count": 37,
   "metadata": {},
   "outputs": [
    {
     "name": "stdout",
     "output_type": "stream",
     "text": [
      "best param eculid:  10 0.2052987278695836\n",
      "best param cosine:  2 0.27235862071819067\n",
      "best param tf_idf:  9 0.6292262771924211\n"
     ]
    }
   ],
   "source": [
    "# Убрали из рассмотрения число соседей равное единице\n",
    "\n",
    "best_param_eucliden = np.argmax(ans['brute'][1:]) + 2\n",
    "best_param_cosine = np.argmax(ans['brute_cosine'][1:]) + 2\n",
    "best_param_tf_idf = np.argmax(ans_tf_idf['brute_cosine'][1:]) + 2\n",
    "print('best param eculid: ',\n",
    "      best_param_eucliden, ans['brute'][best_param_eucliden - 1])\n",
    "print('best param cosine: ',\n",
    "      best_param_cosine, ans['brute_cosine'][best_param_cosine - 1])\n",
    "print('best param tf_idf: ',\n",
    "      best_param_tf_idf, ans_tf_idf['brute_cosine'][best_param_tf_idf - 1])"
   ]
  },
  {
   "cell_type": "markdown",
   "metadata": {},
   "source": [
    "Таким образом, лучший результат достингут после TfiDF пробазования на косинусной метрике при числе соседей - 9"
   ]
  },
  {
   "cell_type": "markdown",
   "metadata": {},
   "source": [
    "Как изменится качество на валидации, если:\n",
    "\n",
    "1. Используется косинусная метрика вместо евклидовой.\n",
    "2. К текстам применяется TfIdf преобразование( sklearn.feature_extraction.text.TfidfTransformer)\n",
    "\n",
    "Сравните модели, выберите лучшую."
   ]
  },
  {
   "cell_type": "markdown",
   "metadata": {},
   "source": [
    "Загрузим  теперь test  часть нашей выборки и преобразуем её аналогично с train частью. Не забудьте, что наборы слов в train и test части могут отличаться."
   ]
  },
  {
   "cell_type": "code",
   "execution_count": 38,
   "metadata": {},
   "outputs": [],
   "source": [
    "newsgroups = fetch_20newsgroups(subset='test',remove=['headers','footers', 'quotes'])\n"
   ]
  },
  {
   "cell_type": "code",
   "execution_count": 39,
   "metadata": {},
   "outputs": [],
   "source": [
    "test_target = newsgroups['target']\n",
    "test_data = newsgroups['data']"
   ]
  },
  {
   "cell_type": "code",
   "execution_count": 40,
   "metadata": {},
   "outputs": [
    {
     "data": {
      "text/plain": [
       "(7309, 7309)"
      ]
     },
     "execution_count": 40,
     "metadata": {},
     "output_type": "execute_result"
    }
   ],
   "source": [
    "outp = [''.join(c if c.isalpha() or c.isdigit() else ' '\n",
    "                for c in first).lower().split() for first in test_data]\n",
    "test_target = [ans for text, ans in zip(outp, test_target) if text != []]\n",
    "test_data_tok = list(filter(None, outp))\n",
    "len(test_data_tok), len(test_target)"
   ]
  },
  {
   "cell_type": "code",
   "execution_count": 47,
   "metadata": {},
   "outputs": [
    {
     "data": {
      "text/plain": [
       "<7309x98749 sparse matrix of type '<class 'numpy.uint16'>'\n",
       "\twith 1371694 stored elements in Compressed Sparse Row format>"
      ]
     },
     "execution_count": 47,
     "metadata": {},
     "output_type": "execute_result"
    }
   ],
   "source": [
    "t_indptr = [0]\n",
    "t_indices = []\n",
    "t_data = []\n",
    "\n",
    "train_vocabulary = vocabulary\n",
    "for d in test_data_tok:\n",
    "    for term in d:\n",
    "        if term in train_vocabulary:\n",
    "            index = train_vocabulary[term]\n",
    "            t_indices.append(index)\n",
    "            t_data.append(1)\n",
    "        else:\n",
    "            continue\n",
    "    t_indptr.append(len(t_indices))\n",
    "\n",
    "test_vectorized = scipy.sparse.csr_matrix((t_data, t_indices, t_indptr),\n",
    "                                          dtype=np.uint16)\n",
    "test_target = np.array(test_target)\n",
    "test_vectorized"
   ]
  },
  {
   "cell_type": "code",
   "execution_count": 48,
   "metadata": {},
   "outputs": [
    {
     "data": {
      "text/plain": [
       "<7309x98749 sparse matrix of type '<class 'numpy.float64'>'\n",
       "\twith 696124 stored elements in Compressed Sparse Row format>"
      ]
     },
     "execution_count": 48,
     "metadata": {},
     "output_type": "execute_result"
    }
   ],
   "source": [
    "from sklearn.feature_extraction.text import TfidfTransformer\n",
    "test_transformed = TfidfTransformer().fit_transform(test_vectorized)\n",
    "test_transformed"
   ]
  },
  {
   "cell_type": "markdown",
   "metadata": {},
   "source": [
    "Оценим качество(score) вашей лучшей модели на test части датасета. Отличается ли оно от кросс-валидации? Попробуйте сделать выводы, почему отличается качество."
   ]
  },
  {
   "cell_type": "code",
   "execution_count": 49,
   "metadata": {},
   "outputs": [
    {
     "data": {
      "text/plain": [
       "((11004, 98749), (11004,))"
      ]
     },
     "execution_count": 49,
     "metadata": {},
     "output_type": "execute_result"
    }
   ],
   "source": [
    "transformed.shape, target.shape"
   ]
  },
  {
   "cell_type": "code",
   "execution_count": 50,
   "metadata": {},
   "outputs": [
    {
     "data": {
      "text/plain": [
       "((7309, 98749), (7309,))"
      ]
     },
     "execution_count": 50,
     "metadata": {},
     "output_type": "execute_result"
    }
   ],
   "source": [
    "test_transformed.shape, test_target.shape"
   ]
  },
  {
   "cell_type": "code",
   "execution_count": 51,
   "metadata": {},
   "outputs": [
    {
     "data": {
      "text/plain": [
       "0.5732658366397592"
      ]
     },
     "execution_count": 51,
     "metadata": {},
     "output_type": "execute_result"
    }
   ],
   "source": [
    "my_best_clf = MyKNeighborsClassifier(n_neighbors=9,\n",
    "                                     algorithm='brute', metric='cosine')\n",
    "my_best_clf.fit(transformed, target)\n",
    "my_best_clf.score(test_transformed, test_target)"
   ]
  },
  {
   "cell_type": "markdown",
   "metadata": {},
   "source": [
    "Точность предсказания упала, так как словарь обучающей выборки не соответствует словарю тестовой"
   ]
  }
 ],
 "metadata": {
  "kernelspec": {
   "display_name": "Python 3",
   "language": "python",
   "name": "python3"
  },
  "language_info": {
   "codemirror_mode": {
    "name": "ipython",
    "version": 3
   },
   "file_extension": ".py",
   "mimetype": "text/x-python",
   "name": "python",
   "nbconvert_exporter": "python",
   "pygments_lexer": "ipython3",
   "version": "3.7.4"
  }
 },
 "nbformat": 4,
 "nbformat_minor": 2
}
